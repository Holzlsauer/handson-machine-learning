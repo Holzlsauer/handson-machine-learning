{
  "nbformat": 4,
  "nbformat_minor": 0,
  "metadata": {
    "colab": {
      "name": "mnist_classification.ipynb",
      "provenance": [],
      "authorship_tag": "ABX9TyMtYZoIMPjxnmf0gpeXi1p/",
      "include_colab_link": true
    },
    "kernelspec": {
      "name": "python3",
      "display_name": "Python 3"
    },
    "language_info": {
      "name": "python"
    }
  },
  "cells": [
    {
      "cell_type": "markdown",
      "metadata": {
        "id": "view-in-github",
        "colab_type": "text"
      },
      "source": [
        "<a href=\"https://colab.research.google.com/github/Holzlsauer/handson-machine-learning/blob/main/PART%20I%2C%20The%20Fundamentals%20of%20Machine%20Learning/Chapter_III/mnist_classification.ipynb\" target=\"_parent\"><img src=\"https://colab.research.google.com/assets/colab-badge.svg\" alt=\"Open In Colab\"/></a>"
      ]
    },
    {
      "cell_type": "markdown",
      "source": [
        "# Imports"
      ],
      "metadata": {
        "id": "z-Jrik4btN2x"
      }
    },
    {
      "cell_type": "code",
      "execution_count": null,
      "metadata": {
        "id": "iNe-mx_pYG-f"
      },
      "outputs": [],
      "source": [
        "import matplotlib.pyplot as plt\n",
        "import numpy as np\n",
        "\n",
        "from scipy.ndimage.interpolation import shift\n",
        "from sklearn.base import BaseEstimator\n",
        "from sklearn.datasets import fetch_openml\n",
        "from sklearn.metrics import accuracy_score\n",
        "from sklearn.metrics import confusion_matrix\n",
        "from sklearn.metrics import f1_score\n",
        "from sklearn.metrics import precision_recall_curve\n",
        "from sklearn.metrics import precision_score\n",
        "from sklearn.metrics import recall_score\n",
        "from sklearn.metrics import roc_auc_score\n",
        "from sklearn.metrics import roc_curve\n",
        "from sklearn.model_selection import cross_val_score\n",
        "from sklearn.model_selection import cross_val_predict\n",
        "from sklearn.model_selection import GridSearchCV\n",
        "from sklearn.multiclass import OneVsOneClassifier\n",
        "from sklearn.preprocessing import StandardScaler\n",
        "\n",
        "from sklearn.ensemble import RandomForestClassifier\n",
        "from sklearn.linear_model import SGDClassifier\n",
        "from sklearn.neighbors import KNeighborsClassifier"
      ]
    },
    {
      "cell_type": "markdown",
      "source": [
        "# Setup"
      ],
      "metadata": {
        "id": "Y8NHKI-Dcdn2"
      }
    },
    {
      "cell_type": "code",
      "source": [
        "mnist = fetch_openml('mnist_784', version=1, as_frame=False)\n",
        "mnist.keys()"
      ],
      "metadata": {
        "colab": {
          "base_uri": "https://localhost:8080/"
        },
        "id": "L2e5ODfMYnL0",
        "outputId": "e201e955-c7eb-40f2-c29d-103785c4214a"
      },
      "execution_count": null,
      "outputs": [
        {
          "output_type": "execute_result",
          "data": {
            "text/plain": [
              "dict_keys(['data', 'target', 'frame', 'categories', 'feature_names', 'target_names', 'DESCR', 'details', 'url'])"
            ]
          },
          "metadata": {},
          "execution_count": 2
        }
      ]
    },
    {
      "cell_type": "code",
      "source": [
        "X, y = mnist['data'], mnist['target'].astype('uint8')\n",
        "\n",
        "print(f'X shape: {X.shape}')\n",
        "print(f'y shape: {y.shape}')"
      ],
      "metadata": {
        "colab": {
          "base_uri": "https://localhost:8080/"
        },
        "id": "G8MKuSZsYyXf",
        "outputId": "1f87cdf5-a6fa-48d1-a110-c56c68a3e674"
      },
      "execution_count": null,
      "outputs": [
        {
          "output_type": "stream",
          "name": "stdout",
          "text": [
            "X shape: (70000, 784)\n",
            "y shape: (70000,)\n"
          ]
        }
      ]
    },
    {
      "cell_type": "code",
      "source": [
        "def plot_digit(digit):\n",
        "    plt.imshow(digit.reshape(28,28), cmap='gray_r')\n",
        "    plt.axis('off')\n",
        "    plt.show()\n",
        "\n",
        "plot_digit(X[0])\n",
        "print(f'\\nLegenda: {y[0]}')"
      ],
      "metadata": {
        "colab": {
          "base_uri": "https://localhost:8080/",
          "height": 283
        },
        "id": "usOporymZFlv",
        "outputId": "70eda78e-d8d5-4429-c356-d76ab7b25505"
      },
      "execution_count": null,
      "outputs": [
        {
          "output_type": "display_data",
          "data": {
            "image/png": "[encoded data removed]",
            "text/plain": [
              "<Figure size 432x288 with 1 Axes>"
            ]
          },
          "metadata": {
            "needs_background": "light"
          }
        },
        {
          "output_type": "stream",
          "name": "stdout",
          "text": [
            "\n",
            "Legenda: 5\n"
          ]
        }
      ]
    },
    {
      "cell_type": "code",
      "source": [
        "X_train, X_test, y_train, y_test = X[:60000], X[60000:], y[:60000], y[60000:]"
      ],
      "metadata": {
        "id": "R-ols343Zxr6"
      },
      "execution_count": null,
      "outputs": []
    },
    {
      "cell_type": "markdown",
      "source": [
        "# Digit 5 Classifier"
      ],
      "metadata": {
        "id": "XVPIDlM6chTR"
      }
    },
    {
      "cell_type": "code",
      "source": [
        "y_train_5 = (y_train == 5)\n",
        "y_test_5 = (y_test == 5)"
      ],
      "metadata": {
        "id": "RJ2NMiGwb0uI"
      },
      "execution_count": null,
      "outputs": []
    },
    {
      "cell_type": "code",
      "source": [
        "sgd = SGDClassifier(random_state=42)\n",
        "sgd.fit(X_train, y_train_5)"
      ],
      "metadata": {
        "id": "ZvDv040Fc2H9"
      },
      "execution_count": null,
      "outputs": []
    },
    {
      "cell_type": "code",
      "source": [
        "sgd.predict([X[0]])"
      ],
      "metadata": {
        "id": "Q0HkszDadsB3"
      },
      "execution_count": null,
      "outputs": []
    },
    {
      "cell_type": "markdown",
      "source": [
        "## Metrics"
      ],
      "metadata": {
        "id": "X5wlg7sPxkml"
      }
    },
    {
      "cell_type": "code",
      "source": [
        "cross_val_score(sgd, X_train, y_train_5, cv=5, scoring='accuracy')"
      ],
      "metadata": {
        "id": "g6XBcOgAeqpl"
      },
      "execution_count": null,
      "outputs": []
    },
    {
      "cell_type": "code",
      "source": [
        "y_train_pred_5 = cross_val_predict(sgd, X_train, y_train_5, cv=5)"
      ],
      "metadata": {
        "id": "zjH-45eEftFo"
      },
      "execution_count": null,
      "outputs": []
    },
    {
      "cell_type": "code",
      "source": [
        "confusion_matrix(y_train_5, y_train_pred_5)"
      ],
      "metadata": {
        "id": "yGe1UM2uf9Ia"
      },
      "execution_count": null,
      "outputs": []
    },
    {
      "cell_type": "markdown",
      "source": [
        "### Precision / Recall / F1-Score"
      ],
      "metadata": {
        "id": "DW0FiNQmxnOW"
      }
    },
    {
      "cell_type": "code",
      "source": [
        "def report(y_true, y_pred):\n",
        "    print(f'{\"Precision score: \":<18}{precision_score(y_pred, y_true)}')\n",
        "    print(f'{\"Recall score: \":<18}{recall_score(y_pred, y_true)}')\n",
        "    print(f'{\"F1 score: \":<18}{f1_score(y_pred, y_true)}')"
      ],
      "metadata": {
        "id": "QhsQcttahA7R"
      },
      "execution_count": null,
      "outputs": []
    },
    {
      "cell_type": "code",
      "source": [
        "report(y_train_5, y_train_pred_5)"
      ],
      "metadata": {
        "id": "TNutINQFunSH"
      },
      "execution_count": null,
      "outputs": []
    },
    {
      "cell_type": "code",
      "source": [
        "y_scores = cross_val_predict(sgd, X_train, y_train_5, cv=5, method='decision_function')"
      ],
      "metadata": {
        "id": "utxdLB3XpDAo"
      },
      "execution_count": null,
      "outputs": []
    },
    {
      "cell_type": "code",
      "source": [
        "precisions, recalls, thresholds = precision_recall_curve(y_train_5, y_scores)\n",
        "\n",
        "plt.figure(figsize=(12,6))\n",
        "plt.plot(thresholds, precisions[:-1], '--b', linewidth=3, label='Precision')\n",
        "plt.plot(thresholds, recalls[:-1], '--r', linewidth=3, label='Recall')\n",
        "plt.legend()\n",
        "plt.xlabel(\"Threshold\", fontsize=16)\n",
        "plt.grid(True)\n",
        "# plt.axis([-50000, 50000, 0, 1])\n",
        "plt.show()"
      ],
      "metadata": {
        "id": "yDWoh267pbja"
      },
      "execution_count": null,
      "outputs": []
    },
    {
      "cell_type": "code",
      "source": [
        "# Gettin the threshold that gives 90% of precision\n",
        "index = np.argmax(precisions >= .9) # Returns the position of the first True element\n",
        "threshold_90 = thresholds[index]\n",
        "threshold_90"
      ],
      "metadata": {
        "id": "0PLPxkR8svHJ"
      },
      "execution_count": null,
      "outputs": []
    },
    {
      "cell_type": "code",
      "source": [
        "y_pred_90 = (y_scores >= threshold_90)\n",
        "report(y_pred_90, y_train_5)"
      ],
      "metadata": {
        "id": "v21ovNmSt74l"
      },
      "execution_count": null,
      "outputs": []
    },
    {
      "cell_type": "markdown",
      "source": [
        "### Roc Curve"
      ],
      "metadata": {
        "id": "4uRB-v6oxsyL"
      }
    },
    {
      "cell_type": "code",
      "source": [
        "fpr, tpr, thresholds = roc_curve(y_train_5, y_scores)"
      ],
      "metadata": {
        "id": "cQdpTxzXuF8B"
      },
      "execution_count": null,
      "outputs": []
    },
    {
      "cell_type": "code",
      "source": [
        "plt.figure(figsize=(8,8))\n",
        "plt.plot(fpr, tpr, 'b', linewidth=2, label='ROC Curve')\n",
        "plt.plot([0, 1], [0, 1], '--k', linewidth=2)\n",
        "plt.ylabel('True Positive Rate (Recall)', fontsize=16)\n",
        "plt.xlabel('False Positive Rate', fontsize=16)\n",
        "plt.legend()\n",
        "plt.grid(True)\n",
        "plt.axis([0, 1, 0, 1])\n",
        "plt.show()"
      ],
      "metadata": {
        "id": "RKqw9h-8x8Us"
      },
      "execution_count": null,
      "outputs": []
    },
    {
      "cell_type": "code",
      "source": [
        "sgd_roc_auc = roc_auc_score(y_train_5, y_scores)\n",
        "sgd_roc_auc"
      ],
      "metadata": {
        "id": "opX-hsm9z_XF"
      },
      "execution_count": null,
      "outputs": []
    },
    {
      "cell_type": "markdown",
      "source": [
        "## Comparing models"
      ],
      "metadata": {
        "id": "WVyqv_7I1G8r"
      }
    },
    {
      "cell_type": "code",
      "source": [
        "rfc = RandomForestClassifier(random_state=42)\n",
        "rfc_scores = cross_val_predict(rfc, X_train, y_train_5, cv=5, method='predict_proba')\n",
        "\n",
        "y_scores_forest = rfc_scores[:,1] # Prob. of True\n",
        "fpr_forest, tpr_forest, thresholds_forest = roc_curve(y_train_5, y_scores_forest) "
      ],
      "metadata": {
        "id": "FzJpj7ie1K6K"
      },
      "execution_count": null,
      "outputs": []
    },
    {
      "cell_type": "code",
      "source": [
        "rfc_roc_auc = roc_auc_score(y_train_5, y_scores_forest)\n",
        "rfc_roc_auc"
      ],
      "metadata": {
        "id": "zWffCo2g3CNm"
      },
      "execution_count": null,
      "outputs": []
    },
    {
      "cell_type": "code",
      "source": [
        "plt.figure(figsize=(8,8))\n",
        "plt.plot(fpr, tpr, 'b', linewidth=2, label=f'Stochastic Gradient Descent: {str(sgd_roc_auc)[:5]}')\n",
        "plt.plot(fpr_forest, tpr_forest, 'r', linewidth=2, label=f'Random Forest: {str(rfc_roc_auc)[:5]}')\n",
        "plt.plot([0, 1], [0, 1], '--k', linewidth=2)\n",
        "plt.ylabel('True Positive Rate (Recall)', fontsize=16)\n",
        "plt.xlabel('False Positive Rate', fontsize=16)\n",
        "plt.legend()\n",
        "plt.grid(True)\n",
        "plt.axis([0, 1, 0, 1])\n",
        "plt.show()"
      ],
      "metadata": {
        "id": "CIxGq_AO2QTV"
      },
      "execution_count": null,
      "outputs": []
    },
    {
      "cell_type": "markdown",
      "source": [
        "# Multiclass Classification"
      ],
      "metadata": {
        "id": "lSzf9xSzX5jq"
      }
    },
    {
      "cell_type": "code",
      "source": [
        "sgd = SGDClassifier(random_state=42)\n",
        "sgd.fit(X_train, y_train)\n",
        "sgd.predict([X[0]])"
      ],
      "metadata": {
        "id": "Tz0xd1ojYEuW"
      },
      "execution_count": null,
      "outputs": []
    },
    {
      "cell_type": "code",
      "source": [
        "X0_scores = sgd.decision_function([X[0]])\n",
        "X0_scores"
      ],
      "metadata": {
        "id": "ZQ_6kn3tYz9O"
      },
      "execution_count": null,
      "outputs": []
    },
    {
      "cell_type": "code",
      "source": [
        "index = np.argmax(X0_scores)\n",
        "index"
      ],
      "metadata": {
        "id": "Q6ATjWm4ZLZK"
      },
      "execution_count": null,
      "outputs": []
    },
    {
      "cell_type": "code",
      "source": [
        "sgd.classes_"
      ],
      "metadata": {
        "id": "j2q72Ny3Za0X"
      },
      "execution_count": null,
      "outputs": []
    },
    {
      "cell_type": "markdown",
      "source": [
        "## Training a SGDClassifier as OvO"
      ],
      "metadata": {
        "id": "4cenhNIpbuKn"
      }
    },
    {
      "cell_type": "code",
      "source": [
        "sgd_ovo = OneVsOneClassifier(SGDClassifier(random_state=42))\n",
        "sgd_ovo.fit(X_train, y_train)\n",
        "sgd_ovo.predict([X[0]])"
      ],
      "metadata": {
        "id": "7MzoZKl8Zcd2"
      },
      "execution_count": null,
      "outputs": []
    },
    {
      "cell_type": "code",
      "source": [
        "len(sgd_ovo.estimators_)"
      ],
      "metadata": {
        "id": "kx915748b7c7"
      },
      "execution_count": null,
      "outputs": []
    },
    {
      "cell_type": "markdown",
      "source": [
        "## Evaluating"
      ],
      "metadata": {
        "id": "f9vvATYlc5Tj"
      }
    },
    {
      "cell_type": "code",
      "source": [
        "cross_val_score(sgd, X_train, y_train, cv=5, scoring='accuracy')"
      ],
      "metadata": {
        "id": "1Biftd1gc7B1"
      },
      "execution_count": null,
      "outputs": []
    },
    {
      "cell_type": "code",
      "source": [
        "scaler = StandardScaler()\n",
        "X_train_scaled = scaler.fit_transform(X_train.astype(np.float64))\n",
        "cross_val_score(sgd, X_train_scaled, y_train, cv=5, scoring='accuracy')"
      ],
      "metadata": {
        "id": "XrtdB8NGdayT"
      },
      "execution_count": null,
      "outputs": []
    },
    {
      "cell_type": "markdown",
      "source": [
        "### Confusion matrix"
      ],
      "metadata": {
        "id": "8jrEgv8deatc"
      }
    },
    {
      "cell_type": "code",
      "source": [
        "y_scaled_rfc_scores = cross_val_predict(rfc, X_train_scaled, y_train, cv=5)"
      ],
      "metadata": {
        "id": "bgUrotLNdumj"
      },
      "execution_count": null,
      "outputs": []
    },
    {
      "cell_type": "code",
      "source": [
        "confusion = confusion_matrix(y_train, y_scaled_rfc_scores)\n",
        "confusion"
      ],
      "metadata": {
        "id": "D5k04YL1e19l"
      },
      "execution_count": null,
      "outputs": []
    },
    {
      "cell_type": "code",
      "source": [
        "plt.figure(figsize=(12,12))\n",
        "plt.matshow(confusion, cmap='gray')\n",
        "plt.show()"
      ],
      "metadata": {
        "id": "JeUh_IF5fFPL"
      },
      "execution_count": null,
      "outputs": []
    },
    {
      "cell_type": "code",
      "source": [
        "row_sums = confusion.sum(axis=1, keepdims=True)\n",
        "norm_confusion = confusion / row_sums\n",
        "\n",
        "np.fill_diagonal(norm_confusion, 0)\n",
        "\n",
        "plt.figure(figsize=(8,8))\n",
        "plt.matshow(norm_confusion, cmap=plt.cm.gray)\n",
        "plt.show()"
      ],
      "metadata": {
        "id": "tf4hj13aguLX"
      },
      "execution_count": null,
      "outputs": []
    },
    {
      "cell_type": "markdown",
      "source": [
        "# Multilabel Classification"
      ],
      "metadata": {
        "id": "faSstwZ1yUnx"
      }
    },
    {
      "cell_type": "code",
      "source": [
        "# Create two labels\n",
        "y_train_large = (y_train >= 7)\n",
        "y_train_odd = (y_train % 2 ==1)\n",
        "y_multilabel = np.c_[y_train_large, y_train_odd]"
      ],
      "metadata": {
        "id": "Su_FvNabyaQj"
      },
      "execution_count": null,
      "outputs": []
    },
    {
      "cell_type": "code",
      "source": [
        "knn = KNeighborsClassifier()\n",
        "knn.fit(X_train, y_multilabel)"
      ],
      "metadata": {
        "id": "jVPr9Z9h_Zz8"
      },
      "execution_count": null,
      "outputs": []
    },
    {
      "cell_type": "code",
      "source": [
        "knn.predict([X[0]])"
      ],
      "metadata": {
        "id": "DgyTMhxY_lBQ"
      },
      "execution_count": null,
      "outputs": []
    },
    {
      "cell_type": "code",
      "source": [
        "y_multilabel[0]"
      ],
      "metadata": {
        "id": "I-QHSPVc_q85"
      },
      "execution_count": null,
      "outputs": []
    },
    {
      "cell_type": "code",
      "source": [
        "y_multilabel_knn_scores = cross_val_predict(knn, X_train, y_multilabel, cv=5)\n",
        "f1_score(y_multilabel, y_multilabel_knn_scores, average='macro')"
      ],
      "metadata": {
        "id": "CKni4siV_wkJ"
      },
      "execution_count": null,
      "outputs": []
    },
    {
      "cell_type": "code",
      "source": [
        "# Giving weiths to labels based on their support\n",
        "f1_score(y_multilabel, y_multilabel_knn_scores, average='weighted')"
      ],
      "metadata": {
        "id": "2IrX7k8fA2PR"
      },
      "execution_count": null,
      "outputs": []
    },
    {
      "cell_type": "markdown",
      "source": [
        "# Multioutput Classification"
      ],
      "metadata": {
        "id": "EIXnWVLyC7kb"
      }
    },
    {
      "cell_type": "code",
      "source": [
        "# Creating noise to add to the digits\n",
        "noise = np.random.randint(0, 100, X_train.shape)\n",
        "X_train_noisy = X_train + noise\n",
        "y_train_noisy = X_train # The 'label' is the clean image"
      ],
      "metadata": {
        "id": "ItyR81lCA4iu"
      },
      "execution_count": null,
      "outputs": []
    },
    {
      "cell_type": "code",
      "source": [
        "fig, ax = plt.subplots(1, 2, figsize=(12, 6))\n",
        "ax[0].imshow(X_train[7].reshape(28, 28), cmap='gray_r')\n",
        "ax[1].imshow(X_train_noisy[7].reshape(28, 28), cmap='gray_r')\n",
        "\n",
        "plt.suptitle('Clean digit vs Noisy digit', fontsize=16)\n",
        "plt.show()"
      ],
      "metadata": {
        "id": "G3X9kC2gD8BQ"
      },
      "execution_count": null,
      "outputs": []
    },
    {
      "cell_type": "code",
      "source": [
        "knn.fit(X_train_noisy, y_train_noisy)\n",
        "some_prediction = knn.predict([X_train_noisy[7]])"
      ],
      "metadata": {
        "id": "dfkdG-0HD_zF"
      },
      "execution_count": null,
      "outputs": []
    },
    {
      "cell_type": "code",
      "source": [
        "fig, ax = plt.subplots(1, 3, figsize=(15, 5))\n",
        "ax[0].imshow(X_train_noisy[7].reshape(28, 28), cmap='gray_r')\n",
        "ax[1].imshow(some_prediction.reshape(28, 28), cmap='gray_r')\n",
        "ax[2].imshow(X_train[7].reshape(28, 28), cmap='gray_r')\n",
        "\n",
        "plt.suptitle('Noisy - Predicted - Clean Digit', fontsize=16)\n",
        "plt.show()"
      ],
      "metadata": {
        "id": "58h3OQhTGkBk"
      },
      "execution_count": null,
      "outputs": []
    },
    {
      "cell_type": "markdown",
      "source": [
        "# Ex. 01"
      ],
      "metadata": {
        "id": "pOgnoL7qpoq8"
      }
    },
    {
      "cell_type": "code",
      "source": [
        "knn  = KNeighborsClassifier()\n",
        "cross_val_score(knn, X_train, y_train, cv=5, scoring='accuracy') # 'Base Model'"
      ],
      "metadata": {
        "id": "2Ei38qddri9r"
      },
      "execution_count": null,
      "outputs": []
    },
    {
      "cell_type": "code",
      "source": [
        "param_grid = {\n",
        "    'weights': ['uniform', 'distance'],\n",
        "    'n_neighbors': [k for k in range(2, 7)]\n",
        "}"
      ],
      "metadata": {
        "id": "mLkz5FDZr-Wa"
      },
      "execution_count": null,
      "outputs": []
    },
    {
      "cell_type": "code",
      "source": [
        "grid_search = GridSearchCV(knn, param_grid=param_grid, cv=5, scoring='accuracy', \n",
        "                           n_jobs=-1, verbose=2)\n",
        "\n",
        "grid_search.fit(X_train, y_train)"
      ],
      "metadata": {
        "colab": {
          "base_uri": "https://localhost:8080/"
        },
        "id": "Hlpqg4lMprFW",
        "outputId": "6449901e-9025-4279-9fcd-12d3867228e4"
      },
      "execution_count": null,
      "outputs": [
        {
          "output_type": "stream",
          "name": "stdout",
          "text": [
            "Fitting 5 folds for each of 10 candidates, totalling 50 fits\n"
          ]
        },
        {
          "output_type": "stream",
          "name": "stderr",
          "text": [
            "/usr/local/lib/python3.7/dist-packages/joblib/externals/loky/process_executor.py:705: UserWarning: A worker stopped while some jobs were given to the executor. This can be caused by a too short worker timeout or by a memory leak.\n",
            "  \"timeout or by a memory leak.\", UserWarning\n",
            "/usr/local/lib/python3.7/dist-packages/joblib/externals/loky/process_executor.py:689: UserWarning: A worker stopped while some jobs were given to the executor. This can be caused by a too short worker timeout or by a memory leak.\n",
            "  p.join()\n"
          ]
        },
        {
          "output_type": "execute_result",
          "data": {
            "text/plain": [
              "GridSearchCV(cv=5, estimator=KNeighborsClassifier(), n_jobs=-1,\n",
              "             param_grid={'n_neighbors': [2, 3, 4, 5, 6],\n",
              "                         'weights': ['uniform', 'distance']},\n",
              "             scoring='accuracy', verbose=2)"
            ]
          },
          "metadata": {},
          "execution_count": 8
        }
      ]
    },
    {
      "cell_type": "code",
      "source": [
        "grid_search.best_params_"
      ],
      "metadata": {
        "id": "QUZjgts5sPpV"
      },
      "execution_count": null,
      "outputs": []
    },
    {
      "cell_type": "code",
      "source": [
        "best_knn = grid_search.best_estimator_\n",
        "best_knn"
      ],
      "metadata": {
        "colab": {
          "base_uri": "https://localhost:8080/"
        },
        "id": "-EnQ0E_JsP_y",
        "outputId": "2e7c1fd5-d8d9-4bfc-c57e-0a64249564d8"
      },
      "execution_count": null,
      "outputs": [
        {
          "output_type": "execute_result",
          "data": {
            "text/plain": [
              "KNeighborsClassifier(n_neighbors=4, weights='distance')"
            ]
          },
          "metadata": {},
          "execution_count": 9
        }
      ]
    },
    {
      "cell_type": "code",
      "source": [
        "y_pred = best_knn.predict(X_test)\n",
        "accuracy_score(y_test, y_pred)"
      ],
      "metadata": {
        "id": "LjCYMieJsbG2"
      },
      "execution_count": null,
      "outputs": []
    },
    {
      "cell_type": "markdown",
      "source": [
        "# Ex. 02"
      ],
      "metadata": {
        "id": "BXODbkPMyn7B"
      }
    },
    {
      "cell_type": "code",
      "source": [
        "plot_digit(X[9])"
      ],
      "metadata": {
        "colab": {
          "base_uri": "https://localhost:8080/",
          "height": 248
        },
        "id": "ND6L7581yqd2",
        "outputId": "bc4d3589-c975-45e6-d36a-f2bd9baf0699"
      },
      "execution_count": null,
      "outputs": [
        {
          "output_type": "display_data",
          "data": {
            "image/png": "[encoded data removed]",
            "text/plain": [
              "<Figure size 432x288 with 1 Axes>"
            ]
          },
          "metadata": {
            "needs_background": "light"
          }
        }
      ]
    },
    {
      "cell_type": "code",
      "source": [
        "def shift_digit(digit, x_axis, y_axis):\n",
        "    digit = digit.reshape(28, 28)\n",
        "    dir = [y_axis, x_axis]\n",
        "    return shift(digit, dir, cval=0, mode='constant').reshape([-1])"
      ],
      "metadata": {
        "id": "cxqc9to_wDhG"
      },
      "execution_count": null,
      "outputs": []
    },
    {
      "cell_type": "code",
      "source": [
        "plot_digit(shift_digit(X[9], 4, -4))"
      ],
      "metadata": {
        "colab": {
          "base_uri": "https://localhost:8080/",
          "height": 248
        },
        "id": "s38OWysUw81G",
        "outputId": "ecd6eb4f-a5ba-476f-9e60-18d5994b21ac"
      },
      "execution_count": null,
      "outputs": [
        {
          "output_type": "display_data",
          "data": {
            "image/png": "[encoded data removed]",
            "text/plain": [
              "<Figure size 432x288 with 1 Axes>"
            ]
          },
          "metadata": {
            "needs_background": "light"
          }
        }
      ]
    },
    {
      "cell_type": "code",
      "source": [
        "# X_train_augmented = [image for image in X_train]\n",
        "# y_train_augmented = [label for label in y_train]\n",
        "\n",
        "# for dx, dy in ((1, 0), (-1, 0), (0, 1), (0, -1)):\n",
        "#     for image, label in zip(X_train, y_train):\n",
        "#         X_train_augmented.append(shift_digit(image, dx, dy))\n",
        "#         y_train_augmented.append(label)\n",
        "\n",
        "# X_train_augmented = np.array(X_train_augmented, dtype=object)\n",
        "# y_train_augmented = np.array(y_train_augmented, dtype=object)"
      ],
      "metadata": {
        "id": "najcUDqPyvba"
      },
      "execution_count": null,
      "outputs": []
    },
    {
      "cell_type": "code",
      "source": [
        "# del X, y, X_train, y_train, mnist, dx, dy, image, label, knn"
      ],
      "metadata": {
        "id": "grWuZ5PgDOUr"
      },
      "execution_count": null,
      "outputs": []
    },
    {
      "cell_type": "code",
      "source": [
        "# y_train_augmented_pred = best_knn.predict(X_test)\n",
        "# accuracy_score(y_test, y_train_augmented_pred)"
      ],
      "metadata": {
        "id": "lb9LOWCk186G"
      },
      "execution_count": null,
      "outputs": []
    }
  ]
}
{
  "nbformat": 4,
  "nbformat_minor": 0,
  "metadata": {
    "colab": {
      "name": "mnist_classification.ipynb",
      "provenance": [],
      "toc_visible": true,
      "authorship_tag": "ABX9TyM4QPyuwBdqbVuNq4NYy46X",
      "include_colab_link": true
    },
    "kernelspec": {
      "name": "python3",
      "display_name": "Python 3"
    },
    "language_info": {
      "name": "python"
    }
  },
  "cells": [
    {
      "cell_type": "markdown",
      "metadata": {
        "id": "view-in-github",
        "colab_type": "text"
      },
      "source": [
        "<a href=\"https://colab.research.google.com/github/Holzlsauer/handson-machine-learning/blob/main/PART%20I%2C%20The%20Fundamentals%20of%20Machine%20Learning/Chapter_III/mnist_classification.ipynb\" target=\"_parent\"><img src=\"https://colab.research.google.com/assets/colab-badge.svg\" alt=\"Open In Colab\"/></a>"
      ]
    },
    {
      "cell_type": "markdown",
      "source": [
        "# Imports"
      ],
      "metadata": {
        "id": "z-Jrik4btN2x"
      }
    },
    {
      "cell_type": "code",
      "execution_count": 138,
      "metadata": {
        "id": "iNe-mx_pYG-f"
      },
      "outputs": [],
      "source": [
        "import matplotlib.pyplot as plt\n",
        "import numpy as np\n",
        "\n",
        "from sklearn.base import BaseEstimator\n",
        "from sklearn.datasets import fetch_openml\n",
        "from sklearn.metrics import confusion_matrix\n",
        "from sklearn.metrics import f1_score\n",
        "from sklearn.metrics import precision_recall_curve\n",
        "from sklearn.metrics import precision_score\n",
        "from sklearn.metrics import recall_score\n",
        "from sklearn.metrics import roc_auc_score\n",
        "from sklearn.metrics import roc_curve\n",
        "from sklearn.model_selection import cross_val_score\n",
        "from sklearn.model_selection import cross_val_predict\n",
        "\n",
        "from sklearn.ensemble import RandomForestClassifier\n",
        "from sklearn.linear_model import SGDClassifier"
      ]
    },
    {
      "cell_type": "markdown",
      "source": [
        "# Setup"
      ],
      "metadata": {
        "id": "Y8NHKI-Dcdn2"
      }
    },
    {
      "cell_type": "code",
      "source": [
        "mnist = fetch_openml('mnist_784', version=1, as_frame=False)\n",
        "mnist.keys()"
      ],
      "metadata": {
        "colab": {
          "base_uri": "https://localhost:8080/"
        },
        "id": "L2e5ODfMYnL0",
        "outputId": "0f5dced0-0cee-4d14-91c2-d9a69da02258"
      },
      "execution_count": 139,
      "outputs": [
        {
          "output_type": "execute_result",
          "data": {
            "text/plain": [
              "dict_keys(['data', 'target', 'frame', 'categories', 'feature_names', 'target_names', 'DESCR', 'details', 'url'])"
            ]
          },
          "metadata": {},
          "execution_count": 139
        }
      ]
    },
    {
      "cell_type": "code",
      "source": [
        "X, y = mnist['data'], mnist['target'].astype('uint8')\n",
        "\n",
        "print(f'X shape: {X.shape}')\n",
        "print(f'y shape: {y.shape}')"
      ],
      "metadata": {
        "colab": {
          "base_uri": "https://localhost:8080/"
        },
        "id": "G8MKuSZsYyXf",
        "outputId": "dccd11df-6705-49e1-9416-1ec988f95f1a"
      },
      "execution_count": 140,
      "outputs": [
        {
          "output_type": "stream",
          "name": "stdout",
          "text": [
            "X shape: (70000, 784)\n",
            "y shape: (70000,)\n"
          ]
        }
      ]
    },
    {
      "cell_type": "code",
      "source": [
        "plt.imshow(X[0].reshape(28,28), cmap='gray_r')\n",
        "plt.axis('off')\n",
        "plt.show()\n",
        "\n",
        "print(f'\\nLegenda: {y[0]}')"
      ],
      "metadata": {
        "colab": {
          "base_uri": "https://localhost:8080/",
          "height": 283
        },
        "id": "usOporymZFlv",
        "outputId": "83c4f93d-cc74-49a7-dfe5-8422eadd2fef"
      },
      "execution_count": 141,
      "outputs": [
        {
          "output_type": "display_data",
          "data": {
            "image/png": "[encoded data removed]",
            "text/plain": [
              "<Figure size 432x288 with 1 Axes>"
            ]
          },
          "metadata": {
            "needs_background": "light"
          }
        },
        {
          "output_type": "stream",
          "name": "stdout",
          "text": [
            "\n",
            "Legenda: 5\n"
          ]
        }
      ]
    },
    {
      "cell_type": "code",
      "source": [
        "X_train, X_test, y_train, y_test = X[:60000], X[60000:], y[:60000], y[60000:]"
      ],
      "metadata": {
        "id": "R-ols343Zxr6"
      },
      "execution_count": 142,
      "outputs": []
    },
    {
      "cell_type": "markdown",
      "source": [
        "# Digit 5 Classifier"
      ],
      "metadata": {
        "id": "XVPIDlM6chTR"
      }
    },
    {
      "cell_type": "code",
      "source": [
        "y_train_5 = (y_train == 5)\n",
        "y_test_5 = (y_test == 5)"
      ],
      "metadata": {
        "id": "RJ2NMiGwb0uI"
      },
      "execution_count": 143,
      "outputs": []
    },
    {
      "cell_type": "code",
      "source": [
        "sgd = SGDClassifier(random_state=42)\n",
        "sgd.fit(X_train, y_train_5)"
      ],
      "metadata": {
        "colab": {
          "base_uri": "https://localhost:8080/"
        },
        "id": "ZvDv040Fc2H9",
        "outputId": "8c109bb2-5ee0-4c7b-a86d-575d710aa89c"
      },
      "execution_count": 144,
      "outputs": [
        {
          "output_type": "execute_result",
          "data": {
            "text/plain": [
              "SGDClassifier(random_state=42)"
            ]
          },
          "metadata": {},
          "execution_count": 144
        }
      ]
    },
    {
      "cell_type": "code",
      "source": [
        "sgd.predict([X[0]])"
      ],
      "metadata": {
        "colab": {
          "base_uri": "https://localhost:8080/"
        },
        "id": "Q0HkszDadsB3",
        "outputId": "800dd719-ac81-414e-c209-f8430127ba0a"
      },
      "execution_count": 145,
      "outputs": [
        {
          "output_type": "execute_result",
          "data": {
            "text/plain": [
              "array([ True])"
            ]
          },
          "metadata": {},
          "execution_count": 145
        }
      ]
    },
    {
      "cell_type": "markdown",
      "source": [
        "## Metrics"
      ],
      "metadata": {
        "id": "X5wlg7sPxkml"
      }
    },
    {
      "cell_type": "code",
      "source": [
        "cross_val_score(model, X_train, y_train_5, cv=5, scoring='accuracy')"
      ],
      "metadata": {
        "colab": {
          "base_uri": "https://localhost:8080/"
        },
        "id": "g6XBcOgAeqpl",
        "outputId": "556c93fe-cc4f-4fa3-dea2-8640a677854c"
      },
      "execution_count": 146,
      "outputs": [
        {
          "output_type": "execute_result",
          "data": {
            "text/plain": [
              "array([0.95466667, 0.96975   , 0.9635    , 0.96533333, 0.94841667])"
            ]
          },
          "metadata": {},
          "execution_count": 146
        }
      ]
    },
    {
      "cell_type": "code",
      "source": [
        "y_train_pred_5 = cross_val_predict(model, X_train, y_train_5, cv=5)"
      ],
      "metadata": {
        "id": "zjH-45eEftFo"
      },
      "execution_count": 147,
      "outputs": []
    },
    {
      "cell_type": "code",
      "source": [
        "confusion_matrix(y_train_5, y_train_pred_5)"
      ],
      "metadata": {
        "colab": {
          "base_uri": "https://localhost:8080/"
        },
        "id": "yGe1UM2uf9Ia",
        "outputId": "15868fa8-59a2-4831-9dbb-ed77da3cc66b"
      },
      "execution_count": 148,
      "outputs": [
        {
          "output_type": "execute_result",
          "data": {
            "text/plain": [
              "array([[53115,  1464],\n",
              "       [  916,  4505]])"
            ]
          },
          "metadata": {},
          "execution_count": 148
        }
      ]
    },
    {
      "cell_type": "markdown",
      "source": [
        "### Precision / Recall / F1-Score"
      ],
      "metadata": {
        "id": "DW0FiNQmxnOW"
      }
    },
    {
      "cell_type": "code",
      "source": [
        "def report(y_true, y_pred):\n",
        "    print(f'{\"Precision score: \":<18}{precision_score(y_pred, y_true)}')\n",
        "    print(f'{\"Recall score: \":<18}{recall_score(y_pred, y_true)}')\n",
        "    print(f'{\"F1 score: \":<18}{f1_score(y_pred, y_true)}')"
      ],
      "metadata": {
        "id": "QhsQcttahA7R"
      },
      "execution_count": 149,
      "outputs": []
    },
    {
      "cell_type": "code",
      "source": [
        "report(y_train_5, y_train_pred_5)"
      ],
      "metadata": {
        "colab": {
          "base_uri": "https://localhost:8080/"
        },
        "id": "TNutINQFunSH",
        "outputId": "fd13c58b-4485-4005-e9bc-a5757aad79ea"
      },
      "execution_count": 150,
      "outputs": [
        {
          "output_type": "stream",
          "name": "stdout",
          "text": [
            "Precision score:  0.8310274857037447\n",
            "Recall score:     0.7547327860613168\n",
            "F1 score:         0.791044776119403\n"
          ]
        }
      ]
    },
    {
      "cell_type": "code",
      "source": [
        "y_scores = cross_val_predict(model, X_train, y_train_5, cv=5, method='decision_function')"
      ],
      "metadata": {
        "id": "utxdLB3XpDAo"
      },
      "execution_count": 151,
      "outputs": []
    },
    {
      "cell_type": "code",
      "source": [
        "precisions, recalls, thresholds = precision_recall_curve(y_train_5, y_scores)\n",
        "\n",
        "plt.figure(figsize=(12,6))\n",
        "plt.plot(thresholds, precisions[:-1], '--b', linewidth=3, label='Precision')\n",
        "plt.plot(thresholds, recalls[:-1], '--r', linewidth=3, label='Recall')\n",
        "plt.legend()\n",
        "plt.xlabel(\"Threshold\", fontsize=16)\n",
        "plt.grid(True)\n",
        "# plt.axis([-50000, 50000, 0, 1])\n",
        "plt.show()"
      ],
      "metadata": {
        "colab": {
          "base_uri": "https://localhost:8080/",
          "height": 393
        },
        "id": "yDWoh267pbja",
        "outputId": "926b81ab-2f2e-46c6-8603-0edb167b967e"
      },
      "execution_count": 152,
      "outputs": [
        {
          "output_type": "display_data",
          "data": {
            "image/png": "[encoded data removed]",
            "text/plain": [
              "<Figure size 864x432 with 1 Axes>"
            ]
          },
          "metadata": {
            "needs_background": "light"
          }
        }
      ]
    },
    {
      "cell_type": "code",
      "source": [
        "# Gettin the threshold that gives 90% of precision\n",
        "index = np.argmax(precisions >= .9) # Returns the position of the first True element\n",
        "threshold_90 = thresholds[index]\n",
        "threshold_90"
      ],
      "metadata": {
        "colab": {
          "base_uri": "https://localhost:8080/"
        },
        "id": "0PLPxkR8svHJ",
        "outputId": "06b84b3d-92dd-4f5a-ecf0-6a52bd9376de"
      },
      "execution_count": 153,
      "outputs": [
        {
          "output_type": "execute_result",
          "data": {
            "text/plain": [
              "3045.9258227053638"
            ]
          },
          "metadata": {},
          "execution_count": 153
        }
      ]
    },
    {
      "cell_type": "code",
      "source": [
        "y_pred_90 = (y_scores >= threshold_90)\n",
        "report(y_pred_90, y_train_5)"
      ],
      "metadata": {
        "colab": {
          "base_uri": "https://localhost:8080/"
        },
        "id": "v21ovNmSt74l",
        "outputId": "8122a38d-c5f8-4759-f837-22996a0b61ee"
      },
      "execution_count": 154,
      "outputs": [
        {
          "output_type": "stream",
          "name": "stdout",
          "text": [
            "Precision score:  0.9002016129032258\n",
            "Recall score:     0.6589190186312488\n",
            "F1 score:         0.760890403663862\n"
          ]
        }
      ]
    },
    {
      "cell_type": "markdown",
      "source": [
        "### Roc Curve"
      ],
      "metadata": {
        "id": "4uRB-v6oxsyL"
      }
    },
    {
      "cell_type": "code",
      "source": [
        "fpr, tpr, thresholds = roc_curve(y_train_5, y_scores)"
      ],
      "metadata": {
        "id": "cQdpTxzXuF8B"
      },
      "execution_count": 155,
      "outputs": []
    },
    {
      "cell_type": "code",
      "source": [
        "plt.figure(figsize=(8,8))\n",
        "plt.plot(fpr, tpr, 'b', linewidth=2, label='ROC Curve')\n",
        "plt.plot([0, 1], [0, 1], '--k', linewidth=2)\n",
        "plt.ylabel('True Positive Rate (Recall)', fontsize=16)\n",
        "plt.xlabel('False Positive Rate', fontsize=16)\n",
        "plt.legend()\n",
        "plt.grid(True)\n",
        "plt.axis([0, 1, 0, 1])\n",
        "plt.show()"
      ],
      "metadata": {
        "colab": {
          "base_uri": "https://localhost:8080/",
          "height": 506
        },
        "id": "RKqw9h-8x8Us",
        "outputId": "ad55aaf8-3018-4a87-ced9-56973b684e75"
      },
      "execution_count": 156,
      "outputs": [
        {
          "output_type": "display_data",
          "data": {
            "image/png": "[encoded data removed]",
            "text/plain": [
              "<Figure size 576x576 with 1 Axes>"
            ]
          },
          "metadata": {
            "needs_background": "light"
          }
        }
      ]
    },
    {
      "cell_type": "code",
      "source": [
        "sgd_roc_auc = roc_auc_score(y_train_5, y_scores)\n",
        "sgd_roc_auc"
      ],
      "metadata": {
        "colab": {
          "base_uri": "https://localhost:8080/"
        },
        "id": "opX-hsm9z_XF",
        "outputId": "c21f9fd3-f3ec-4b34-eb8c-6b37858b2b2b"
      },
      "execution_count": 157,
      "outputs": [
        {
          "output_type": "execute_result",
          "data": {
            "text/plain": [
              "0.9648211175804801"
            ]
          },
          "metadata": {},
          "execution_count": 157
        }
      ]
    },
    {
      "cell_type": "markdown",
      "source": [
        "## Comparing models"
      ],
      "metadata": {
        "id": "WVyqv_7I1G8r"
      }
    },
    {
      "cell_type": "code",
      "source": [
        "rfc = RandomForestClassifier(random_state=42)\n",
        "rfc_scores = cross_val_predict(rfc, X_train, y_train_5, cv=5, method='predict_proba')\n",
        "\n",
        "y_scores_forest = rfc_scores[:,1] # Prob. of True\n",
        "fpr_forest, tpr_forest, thresholds_forest = roc_curve(y_train_5, y_scores_forest) "
      ],
      "metadata": {
        "id": "FzJpj7ie1K6K"
      },
      "execution_count": 158,
      "outputs": []
    },
    {
      "cell_type": "code",
      "source": [
        "rfc_roc_auc = roc_auc_score(y_train_5, y_scores_forest)\n",
        "rfc_roc_auc"
      ],
      "metadata": {
        "colab": {
          "base_uri": "https://localhost:8080/"
        },
        "id": "zWffCo2g3CNm",
        "outputId": "dae9b557-5e33-4871-a02e-ab53550bf708"
      },
      "execution_count": 159,
      "outputs": [
        {
          "output_type": "execute_result",
          "data": {
            "text/plain": [
              "0.998402186461512"
            ]
          },
          "metadata": {},
          "execution_count": 159
        }
      ]
    },
    {
      "cell_type": "code",
      "source": [
        "plt.figure(figsize=(8,8))\n",
        "plt.plot(fpr, tpr, 'b', linewidth=2, label=f'Stochastic Gradient Descent: {str(sgd_roc_auc)[:5]}')\n",
        "plt.plot(fpr_forest, tpr_forest, 'r', linewidth=2, label=f'Random Forest: {str(rfc_roc_auc)[:5]}')\n",
        "plt.plot([0, 1], [0, 1], '--k', linewidth=2)\n",
        "plt.ylabel('True Positive Rate (Recall)', fontsize=16)\n",
        "plt.xlabel('False Positive Rate', fontsize=16)\n",
        "plt.legend()\n",
        "plt.grid(True)\n",
        "plt.axis([0, 1, 0, 1])\n",
        "plt.show()"
      ],
      "metadata": {
        "colab": {
          "base_uri": "https://localhost:8080/",
          "height": 506
        },
        "id": "CIxGq_AO2QTV",
        "outputId": "826e678d-215c-4245-867e-9e625434698e"
      },
      "execution_count": 160,
      "outputs": [
        {
          "output_type": "display_data",
          "data": {
            "image/png": "[encoded data removed]",
            "text/plain": [
              "<Figure size 576x576 with 1 Axes>"
            ]
          },
          "metadata": {
            "needs_background": "light"
          }
        }
      ]
    },
    {
      "cell_type": "code",
      "source": [
        ""
      ],
      "metadata": {
        "id": "fg3x0z603qii"
      },
      "execution_count": 160,
      "outputs": []
    }
  ]
}